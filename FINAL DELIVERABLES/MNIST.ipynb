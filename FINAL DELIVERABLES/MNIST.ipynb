{
 "cells": [
  {
   "cell_type": "code",
   "execution_count": 1,
   "id": "0633e225",
   "metadata": {},
   "outputs": [],
   "source": [
    "#Load Required Librairies\n",
    "import numpy as np\n",
    "import pandas as pd\n",
    "import matplotlib.pyplot as plt\n",
    "import seaborn as sns\n",
    "from tensorflow.keras.layers import Dense,Conv2D,MaxPool2D,Flatten\n",
    "from tensorflow.keras.models import Sequential,load_model\n",
    "from tensorflow.keras.callbacks import EarlyStopping\n",
    "from tensorflow.keras.datasets import mnist\n",
    "from tensorflow.keras.utils import to_categorical\n",
    "from sklearn.metrics import classification_report,confusion_matrix"
   ]
  },
  {
   "cell_type": "code",
   "execution_count": 2,
   "id": "ac97bd15",
   "metadata": {},
   "outputs": [],
   "source": [
    "#Loading MNIST DATA\n",
    "(X_train, y_train), (X_test, y_test) = mnist.load_data()"
   ]
  },
  {
   "cell_type": "code",
   "execution_count": 4,
   "id": "3ae60756",
   "metadata": {},
   "outputs": [
    {
     "data": {
      "text/plain": [
       "array([[[0, 0, 0, ..., 0, 0, 0],\n",
       "        [0, 0, 0, ..., 0, 0, 0],\n",
       "        [0, 0, 0, ..., 0, 0, 0],\n",
       "        ...,\n",
       "        [0, 0, 0, ..., 0, 0, 0],\n",
       "        [0, 0, 0, ..., 0, 0, 0],\n",
       "        [0, 0, 0, ..., 0, 0, 0]],\n",
       "\n",
       "       [[0, 0, 0, ..., 0, 0, 0],\n",
       "        [0, 0, 0, ..., 0, 0, 0],\n",
       "        [0, 0, 0, ..., 0, 0, 0],\n",
       "        ...,\n",
       "        [0, 0, 0, ..., 0, 0, 0],\n",
       "        [0, 0, 0, ..., 0, 0, 0],\n",
       "        [0, 0, 0, ..., 0, 0, 0]],\n",
       "\n",
       "       [[0, 0, 0, ..., 0, 0, 0],\n",
       "        [0, 0, 0, ..., 0, 0, 0],\n",
       "        [0, 0, 0, ..., 0, 0, 0],\n",
       "        ...,\n",
       "        [0, 0, 0, ..., 0, 0, 0],\n",
       "        [0, 0, 0, ..., 0, 0, 0],\n",
       "        [0, 0, 0, ..., 0, 0, 0]],\n",
       "\n",
       "       ...,\n",
       "\n",
       "       [[0, 0, 0, ..., 0, 0, 0],\n",
       "        [0, 0, 0, ..., 0, 0, 0],\n",
       "        [0, 0, 0, ..., 0, 0, 0],\n",
       "        ...,\n",
       "        [0, 0, 0, ..., 0, 0, 0],\n",
       "        [0, 0, 0, ..., 0, 0, 0],\n",
       "        [0, 0, 0, ..., 0, 0, 0]],\n",
       "\n",
       "       [[0, 0, 0, ..., 0, 0, 0],\n",
       "        [0, 0, 0, ..., 0, 0, 0],\n",
       "        [0, 0, 0, ..., 0, 0, 0],\n",
       "        ...,\n",
       "        [0, 0, 0, ..., 0, 0, 0],\n",
       "        [0, 0, 0, ..., 0, 0, 0],\n",
       "        [0, 0, 0, ..., 0, 0, 0]],\n",
       "\n",
       "       [[0, 0, 0, ..., 0, 0, 0],\n",
       "        [0, 0, 0, ..., 0, 0, 0],\n",
       "        [0, 0, 0, ..., 0, 0, 0],\n",
       "        ...,\n",
       "        [0, 0, 0, ..., 0, 0, 0],\n",
       "        [0, 0, 0, ..., 0, 0, 0],\n",
       "        [0, 0, 0, ..., 0, 0, 0]]], dtype=uint8)"
      ]
     },
     "execution_count": 4,
     "metadata": {},
     "output_type": "execute_result"
    }
   ],
   "source": [
    "X_train"
   ]
  },
  {
   "cell_type": "code",
   "execution_count": 5,
   "id": "16a7b069",
   "metadata": {},
   "outputs": [
    {
     "data": {
      "text/plain": [
       "array([5, 0, 4, ..., 5, 6, 8], dtype=uint8)"
      ]
     },
     "execution_count": 5,
     "metadata": {},
     "output_type": "execute_result"
    }
   ],
   "source": [
    "y_train"
   ]
  },
  {
   "cell_type": "code",
   "execution_count": 6,
   "id": "8cd43b4b",
   "metadata": {},
   "outputs": [
    {
     "data": {
      "text/plain": [
       "<matplotlib.image.AxesImage at 0x2924d8c51f0>"
      ]
     },
     "execution_count": 6,
     "metadata": {},
     "output_type": "execute_result"
    },
    {
     "data": {
      "image/png": "[encoded data removed]",
      "text/plain": [
       "<Figure size 640x480 with 1 Axes>"
      ]
     },
     "metadata": {},
     "output_type": "display_data"
    }
   ],
   "source": [
    "plt.imshow(X_train[0])"
   ]
  },
  {
   "cell_type": "code",
   "execution_count": 8,
   "id": "b6c80dad",
   "metadata": {},
   "outputs": [
    {
     "data": {
      "text/plain": [
       "(60000, 28, 28)"
      ]
     },
     "execution_count": 8,
     "metadata": {},
     "output_type": "execute_result"
    }
   ],
   "source": [
    "X_train.shape"
   ]
  },
  {
   "cell_type": "code",
   "execution_count": 9,
   "id": "63ad2b2a",
   "metadata": {},
   "outputs": [],
   "source": [
    "# transforming y in one hot encoding form\n",
    "y_train=to_categorical(y_train)\n",
    "y_test=to_categorical(y_test)"
   ]
  },
  {
   "cell_type": "code",
   "execution_count": 10,
   "id": "27b74447",
   "metadata": {},
   "outputs": [],
   "source": [
    "exam=y_train[0]"
   ]
  },
  {
   "cell_type": "code",
   "execution_count": 11,
   "id": "48c0f966",
   "metadata": {},
   "outputs": [],
   "source": [
    "X_train=X_train/255\n",
    "X_test=X_test/255"
   ]
  },
  {
   "cell_type": "code",
   "execution_count": 13,
   "id": "cb79dd1a",
   "metadata": {},
   "outputs": [],
   "source": [
    "X_train=X_train.reshape(60000, 28, 28,1)\n",
    "X_test=X_test.reshape(10000, 28, 28,1)"
   ]
  },
  {
   "cell_type": "code",
   "execution_count": 14,
   "id": "386d3c11",
   "metadata": {},
   "outputs": [],
   "source": [
    "# MODEL BUILDING\n",
    "\n",
    "model=Sequential()\n",
    "\n",
    "model.add(Conv2D(filters=32,kernel_size=(4,4),strides=(1,1),input_shape=(28,28,1),activation='relu'))\n",
    "\n",
    "model.add(MaxPool2D(pool_size=(2,2)))\n",
    "\n",
    "model.add(Flatten())\n",
    "\n",
    "model.add(Dense(128, activation='relu'))\n",
    "\n",
    "model.add(Dense(10, activation='softmax'))"
   ]
  },
  {
   "cell_type": "code",
   "execution_count": 15,
   "id": "46b2ce94",
   "metadata": {},
   "outputs": [],
   "source": [
    "model.compile(loss='categorical_crossentropy',optimizer='adam',metrics=['accuracy']) "
   ]
  },
  {
   "cell_type": "code",
   "execution_count": 16,
   "id": "f9eaf108",
   "metadata": {},
   "outputs": [
    {
     "name": "stdout",
     "output_type": "stream",
     "text": [
      "Model: \"sequential\"\n",
      "_________________________________________________________________\n",
      " Layer (type)                Output Shape              Param #   \n",
      "=================================================================\n",
      " conv2d (Conv2D)             (None, 25, 25, 32)        544       \n",
      "                                                                 \n",
      " max_pooling2d (MaxPooling2D  (None, 12, 12, 32)       0         \n",
      " )                                                               \n",
      "                                                                 \n",
      " flatten (Flatten)           (None, 4608)              0         \n",
      "                                                                 \n",
      " dense (Dense)               (None, 128)               589952    \n",
      "                                                                 \n",
      " dense_1 (Dense)             (None, 10)                1290      \n",
      "                                                                 \n",
      "=================================================================\n",
      "Total params: 591,786\n",
      "Trainable params: 591,786\n",
      "Non-trainable params: 0\n",
      "_________________________________________________________________\n"
     ]
    }
   ],
   "source": [
    "model.summary()"
   ]
  },
  {
   "cell_type": "code",
   "execution_count": 17,
   "id": "b38741c4",
   "metadata": {},
   "outputs": [],
   "source": [
    "early_stop = EarlyStopping(monitor='val_loss',patience=10)"
   ]
  },
  {
   "cell_type": "code",
   "execution_count": 18,
   "id": "71d79fe8",
   "metadata": {},
   "outputs": [
    {
     "name": "stdout",
     "output_type": "stream",
     "text": [
      "Epoch 1/250\n",
      "1875/1875 [==============================] - 13s 7ms/step - loss: 0.1417 - accuracy: 0.9570 - val_loss: 0.0571 - val_accuracy: 0.9823\n",
      "Epoch 2/250\n",
      "1875/1875 [==============================] - 12s 7ms/step - loss: 0.0468 - accuracy: 0.9856 - val_loss: 0.0385 - val_accuracy: 0.9868\n",
      "Epoch 3/250\n",
      "1875/1875 [==============================] - 12s 7ms/step - loss: 0.0309 - accuracy: 0.9901 - val_loss: 0.0390 - val_accuracy: 0.9863\n",
      "Epoch 4/250\n",
      "1875/1875 [==============================] - 12s 7ms/step - loss: 0.0213 - accuracy: 0.9931 - val_loss: 0.0378 - val_accuracy: 0.9877\n",
      "Epoch 5/250\n",
      "1875/1875 [==============================] - 12s 6ms/step - loss: 0.0142 - accuracy: 0.9953 - val_loss: 0.0365 - val_accuracy: 0.9890\n",
      "Epoch 6/250\n",
      "1875/1875 [==============================] - 12s 6ms/step - loss: 0.0114 - accuracy: 0.9964 - val_loss: 0.0553 - val_accuracy: 0.9846\n",
      "Epoch 7/250\n",
      "1875/1875 [==============================] - 13s 7ms/step - loss: 0.0091 - accuracy: 0.9969 - val_loss: 0.0490 - val_accuracy: 0.9868\n",
      "Epoch 8/250\n",
      "1875/1875 [==============================] - 12s 6ms/step - loss: 0.0072 - accuracy: 0.9975 - val_loss: 0.0469 - val_accuracy: 0.9879\n",
      "Epoch 9/250\n",
      "1875/1875 [==============================] - 13s 7ms/step - loss: 0.0058 - accuracy: 0.9978 - val_loss: 0.0518 - val_accuracy: 0.9859\n",
      "Epoch 10/250\n",
      "1875/1875 [==============================] - 12s 7ms/step - loss: 0.0046 - accuracy: 0.9984 - val_loss: 0.0482 - val_accuracy: 0.9887\n",
      "Epoch 11/250\n",
      "1875/1875 [==============================] - 12s 6ms/step - loss: 0.0049 - accuracy: 0.9984 - val_loss: 0.0554 - val_accuracy: 0.9863\n",
      "Epoch 12/250\n",
      "1875/1875 [==============================] - 12s 6ms/step - loss: 0.0033 - accuracy: 0.9988 - val_loss: 0.0547 - val_accuracy: 0.9877\n",
      "Epoch 13/250\n",
      "1875/1875 [==============================] - 12s 7ms/step - loss: 0.0035 - accuracy: 0.9988 - val_loss: 0.0496 - val_accuracy: 0.9883\n",
      "Epoch 14/250\n",
      "1875/1875 [==============================] - 12s 7ms/step - loss: 0.0037 - accuracy: 0.9989 - val_loss: 0.0652 - val_accuracy: 0.9864\n",
      "Epoch 15/250\n",
      "1875/1875 [==============================] - 12s 7ms/step - loss: 0.0030 - accuracy: 0.9989 - val_loss: 0.0591 - val_accuracy: 0.9874\n"
     ]
    },
    {
     "data": {
      "text/plain": [
       "<keras.callbacks.History at 0x2924d40f7c0>"
      ]
     },
     "execution_count": 18,
     "metadata": {},
     "output_type": "execute_result"
    }
   ],
   "source": [
    "model.fit(X_train,y_train,epochs=250,validation_data=(X_test,y_test),callbacks=[early_stop])"
   ]
  },
  {
   "cell_type": "code",
   "execution_count": 54,
   "id": "9f0818ae",
   "metadata": {},
   "outputs": [],
   "source": [
    "loss_df=pd.DataFrame(model.history.history)"
   ]
  },
  {
   "cell_type": "code",
   "execution_count": 55,
   "id": "8b4550fd",
   "metadata": {},
   "outputs": [
    {
     "data": {
      "text/html": [
       "<div>\n",
       "<style scoped>\n",
       "    .dataframe tbody tr th:only-of-type {\n",
       "        vertical-align: middle;\n",
       "    }\n",
       "\n",
       "    .dataframe tbody tr th {\n",
       "        vertical-align: top;\n",
       "    }\n",
       "\n",
       "    .dataframe thead th {\n",
       "        text-align: right;\n",
       "    }\n",
       "</style>\n",
       "<table border=\"1\" class=\"dataframe\">\n",
       "  <thead>\n",
       "    <tr style=\"text-align: right;\">\n",
       "      <th></th>\n",
       "      <th>loss</th>\n",
       "      <th>accuracy</th>\n",
       "      <th>val_loss</th>\n",
       "      <th>val_accuracy</th>\n",
       "    </tr>\n",
       "  </thead>\n",
       "  <tbody>\n",
       "    <tr>\n",
       "      <th>0</th>\n",
       "      <td>0.134995</td>\n",
       "      <td>0.959633</td>\n",
       "      <td>0.055899</td>\n",
       "      <td>0.9806</td>\n",
       "    </tr>\n",
       "    <tr>\n",
       "      <th>1</th>\n",
       "      <td>0.045870</td>\n",
       "      <td>0.985767</td>\n",
       "      <td>0.043222</td>\n",
       "      <td>0.9849</td>\n",
       "    </tr>\n",
       "    <tr>\n",
       "      <th>2</th>\n",
       "      <td>0.030102</td>\n",
       "      <td>0.990717</td>\n",
       "      <td>0.038624</td>\n",
       "      <td>0.9873</td>\n",
       "    </tr>\n",
       "    <tr>\n",
       "      <th>3</th>\n",
       "      <td>0.020431</td>\n",
       "      <td>0.993483</td>\n",
       "      <td>0.032882</td>\n",
       "      <td>0.9894</td>\n",
       "    </tr>\n",
       "    <tr>\n",
       "      <th>4</th>\n",
       "      <td>0.014025</td>\n",
       "      <td>0.995600</td>\n",
       "      <td>0.035397</td>\n",
       "      <td>0.9889</td>\n",
       "    </tr>\n",
       "    <tr>\n",
       "      <th>5</th>\n",
       "      <td>0.009925</td>\n",
       "      <td>0.996750</td>\n",
       "      <td>0.042566</td>\n",
       "      <td>0.9868</td>\n",
       "    </tr>\n",
       "    <tr>\n",
       "      <th>6</th>\n",
       "      <td>0.008384</td>\n",
       "      <td>0.997133</td>\n",
       "      <td>0.040128</td>\n",
       "      <td>0.9904</td>\n",
       "    </tr>\n",
       "    <tr>\n",
       "      <th>7</th>\n",
       "      <td>0.006705</td>\n",
       "      <td>0.997733</td>\n",
       "      <td>0.043938</td>\n",
       "      <td>0.9879</td>\n",
       "    </tr>\n",
       "    <tr>\n",
       "      <th>8</th>\n",
       "      <td>0.005264</td>\n",
       "      <td>0.998167</td>\n",
       "      <td>0.046568</td>\n",
       "      <td>0.9874</td>\n",
       "    </tr>\n",
       "    <tr>\n",
       "      <th>9</th>\n",
       "      <td>0.004237</td>\n",
       "      <td>0.998617</td>\n",
       "      <td>0.048168</td>\n",
       "      <td>0.9887</td>\n",
       "    </tr>\n",
       "    <tr>\n",
       "      <th>10</th>\n",
       "      <td>0.004636</td>\n",
       "      <td>0.998333</td>\n",
       "      <td>0.049535</td>\n",
       "      <td>0.9881</td>\n",
       "    </tr>\n",
       "    <tr>\n",
       "      <th>11</th>\n",
       "      <td>0.002892</td>\n",
       "      <td>0.998967</td>\n",
       "      <td>0.084863</td>\n",
       "      <td>0.9830</td>\n",
       "    </tr>\n",
       "    <tr>\n",
       "      <th>12</th>\n",
       "      <td>0.004545</td>\n",
       "      <td>0.998617</td>\n",
       "      <td>0.051951</td>\n",
       "      <td>0.9883</td>\n",
       "    </tr>\n",
       "    <tr>\n",
       "      <th>13</th>\n",
       "      <td>0.000864</td>\n",
       "      <td>0.999683</td>\n",
       "      <td>0.056205</td>\n",
       "      <td>0.9897</td>\n",
       "    </tr>\n",
       "  </tbody>\n",
       "</table>\n",
       "</div>"
      ],
      "text/plain": [
       "        loss  accuracy  val_loss  val_accuracy\n",
       "0   0.134995  0.959633  0.055899        0.9806\n",
       "1   0.045870  0.985767  0.043222        0.9849\n",
       "2   0.030102  0.990717  0.038624        0.9873\n",
       "3   0.020431  0.993483  0.032882        0.9894\n",
       "4   0.014025  0.995600  0.035397        0.9889\n",
       "5   0.009925  0.996750  0.042566        0.9868\n",
       "6   0.008384  0.997133  0.040128        0.9904\n",
       "7   0.006705  0.997733  0.043938        0.9879\n",
       "8   0.005264  0.998167  0.046568        0.9874\n",
       "9   0.004237  0.998617  0.048168        0.9887\n",
       "10  0.004636  0.998333  0.049535        0.9881\n",
       "11  0.002892  0.998967  0.084863        0.9830\n",
       "12  0.004545  0.998617  0.051951        0.9883\n",
       "13  0.000864  0.999683  0.056205        0.9897"
      ]
     },
     "execution_count": 55,
     "metadata": {},
     "output_type": "execute_result"
    }
   ],
   "source": [
    "loss_df"
   ]
  },
  {
   "cell_type": "code",
   "execution_count": 56,
   "id": "14071597",
   "metadata": {
    "scrolled": true
   },
   "outputs": [
    {
     "data": {
      "text/plain": [
       "[<matplotlib.lines.Line2D at 0x18085e07730>,\n",
       " <matplotlib.lines.Line2D at 0x18085e07910>,\n",
       " <matplotlib.lines.Line2D at 0x18085e07790>,\n",
       " <matplotlib.lines.Line2D at 0x18085e07bb0>]"
      ]
     },
     "execution_count": 56,
     "metadata": {},
     "output_type": "execute_result"
    },
    {
     "data": {
      "image/png": "[encoded data removed]",
      "text/plain": [
       "<Figure size 432x288 with 1 Axes>"
      ]
     },
     "metadata": {
      "needs_background": "light"
     },
     "output_type": "display_data"
    }
   ],
   "source": [
    "plt.plot(loss_df)"
   ]
  },
  {
   "cell_type": "code",
   "execution_count": 76,
   "id": "16d6edd4",
   "metadata": {},
   "outputs": [
    {
     "name": "stdout",
     "output_type": "stream",
     "text": [
      "313/313 [==============================] - 1s 2ms/step\n"
     ]
    }
   ],
   "source": [
    "preds=model.predict(X_test)"
   ]
  },
  {
   "cell_type": "code",
   "execution_count": 77,
   "id": "7d4bf743",
   "metadata": {},
   "outputs": [],
   "source": [
    "for i in range(len(preds)):\n",
    "    preds[i][np.argmax(preds[i])]=1\n",
    "    preds[i]=np.round(preds[i])"
   ]
  },
  {
   "cell_type": "code",
   "execution_count": 84,
   "id": "a4c19957",
   "metadata": {},
   "outputs": [
    {
     "data": {
      "text/plain": [
       "array([[ 970,    0,    3,    1,    0,    0,    4,    0,    2,    0],\n",
       "       [   1, 1121,    1,    2,    0,    3,    3,    3,    1,    0],\n",
       "       [   1,    1, 1023,    1,    0,    0,    0,    5,    1,    0],\n",
       "       [   0,    0,    1, 1002,    0,    4,    0,    1,    0,    2],\n",
       "       [   1,    0,    0,    0,  971,    0,    5,    0,    0,    5],\n",
       "       [   1,    0,    1,    5,    0,  884,    1,    0,    0,    0],\n",
       "       [   4,    1,    0,    1,    1,    3,  947,    0,    1,    0],\n",
       "       [   0,    1,    6,    1,    0,    1,    0, 1014,    1,    4],\n",
       "       [   2,    0,    2,    4,    1,    3,    0,    1,  958,    3],\n",
       "       [   2,    1,    1,    3,    6,    3,    0,    7,    2,  984]],\n",
       "      dtype=int64)"
      ]
     },
     "execution_count": 84,
     "metadata": {},
     "output_type": "execute_result"
    }
   ],
   "source": [
    "# Test the model\n",
    "confusion_matrix(y_test.argmax(axis=1), preds.argmax(axis=1))"
   ]
  },
  {
   "cell_type": "code",
   "execution_count": 74,
   "id": "84344b8d",
   "metadata": {},
   "outputs": [
    {
     "name": "stdout",
     "output_type": "stream",
     "text": [
      "              precision    recall  f1-score   support\n",
      "\n",
      "           0       0.99      0.99      0.99       980\n",
      "           1       1.00      0.99      0.99      1135\n",
      "           2       0.99      0.99      0.99      1032\n",
      "           3       0.98      0.99      0.99      1010\n",
      "           4       0.99      0.99      0.99       982\n",
      "           5       0.98      0.99      0.99       892\n",
      "           6       0.99      0.99      0.99       958\n",
      "           7       0.98      0.99      0.98      1028\n",
      "           8       0.99      0.98      0.99       974\n",
      "           9       0.99      0.98      0.98      1009\n",
      "\n",
      "   micro avg       0.99      0.99      0.99     10000\n",
      "   macro avg       0.99      0.99      0.99     10000\n",
      "weighted avg       0.99      0.99      0.99     10000\n",
      " samples avg       0.99      0.99      0.99     10000\n",
      "\n"
     ]
    }
   ],
   "source": [
    "print(classification_report(y_test,preds))"
   ]
  },
  {
   "cell_type": "code",
   "execution_count": 29,
   "id": "52ad6d43",
   "metadata": {},
   "outputs": [],
   "source": [
    "new_data=X_test[6]\n",
    "new_data=new_data.reshape(1,28,28,1)"
   ]
  },
  {
   "cell_type": "code",
   "execution_count": 35,
   "id": "97b3e3a4",
   "metadata": {},
   "outputs": [
    {
     "name": "stdout",
     "output_type": "stream",
     "text": [
      "1/1 [==============================] - 0s 17ms/step\n",
      "Predicted Number : 4\n"
     ]
    }
   ],
   "source": [
    "new_pred=model.predict(new_data)\n",
    "print(\"Predicted Number :\",np.argmax(new_pred))"
   ]
  },
  {
   "cell_type": "code",
   "execution_count": 36,
   "id": "917fe6f9",
   "metadata": {},
   "outputs": [
    {
     "data": {
      "text/plain": [
       "<matplotlib.image.AxesImage at 0x29268b9d820>"
      ]
     },
     "execution_count": 36,
     "metadata": {},
     "output_type": "execute_result"
    },
    {
     "data": {
      "image/png": "[encoded data removed]",
      "text/plain": [
       "<Figure size 640x480 with 1 Axes>"
      ]
     },
     "metadata": {},
     "output_type": "display_data"
    }
   ],
   "source": [
    "plt.imshow(X_test[6])"
   ]
  },
  {
   "cell_type": "code",
   "execution_count": 38,
   "id": "60b48f35",
   "metadata": {},
   "outputs": [],
   "source": [
    "# Save the model\n",
    "\n",
    "model.save('mnist.h5')"
   ]
  },
  {
   "cell_type": "code",
   "execution_count": 41,
   "id": "4a548c09",
   "metadata": {},
   "outputs": [],
   "source": [
    "# Test with Loaded model\n",
    "loaded_model=load_model('mnist.h5')"
   ]
  },
  {
   "cell_type": "code",
   "execution_count": 45,
   "id": "d8ad5471",
   "metadata": {},
   "outputs": [
    {
     "name": "stdout",
     "output_type": "stream",
     "text": [
      "1/1 [==============================] - 0s 17ms/step\n",
      "Predicted Number : 0\n"
     ]
    }
   ],
   "source": [
    "new_data=X_test[10]\n",
    "new_data=new_data.reshape(1,28,28,1)\n",
    "new_pred=model.predict(new_data)\n",
    "print(\"Predicted Number :\",np.argmax(new_pred))"
   ]
  },
  {
   "cell_type": "code",
   "execution_count": 46,
   "id": "46e3c0f0",
   "metadata": {
    "scrolled": true
   },
   "outputs": [
    {
     "data": {
      "text/plain": [
       "<matplotlib.image.AxesImage at 0x29269400c70>"
      ]
     },
     "execution_count": 46,
     "metadata": {},
     "output_type": "execute_result"
    },
    {
     "data": {
      "image/png": "[encoded data removed]",
      "text/plain": [
       "<Figure size 640x480 with 1 Axes>"
      ]
     },
     "metadata": {},
     "output_type": "display_data"
    }
   ],
   "source": [
    "plt.imshow(X_test[10])"
   ]
  },
  {
   "cell_type": "code",
   "execution_count": null,
   "id": "42f9ce2d",
   "metadata": {},
   "outputs": [],
   "source": []
  }
 ],
 "metadata": {
  "kernelspec": {
   "display_name": "Python 3 (ipykernel)",
   "language": "python",
   "name": "python3"
  },
  "language_info": {
   "codemirror_mode": {
    "name": "ipython",
    "version": 3
   },
   "file_extension": ".py",
   "mimetype": "text/x-python",
   "name": "python",
   "nbconvert_exporter": "python",
   "pygments_lexer": "ipython3",
   "version": "3.9.13"
  }
 },
 "nbformat": 4,
 "nbformat_minor": 5
}
