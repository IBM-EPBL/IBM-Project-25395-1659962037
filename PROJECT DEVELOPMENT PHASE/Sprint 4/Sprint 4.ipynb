{
 "cells": [
  {
   "cell_type": "markdown",
   "id": "3bf67006",
   "metadata": {},
   "source": [
    "## A Novel Method for Handwritten Digit Recognition System\n",
    "\n",
    "## Project Development Phase\n",
    "\n",
    "## Project ID: PNT2022TMID15811"
   ]
  },
  {
   "cell_type": "markdown",
   "id": "2c2b54b7",
   "metadata": {},
   "source": [
    "## Sprint 1"
   ]
  },
  {
   "cell_type": "markdown",
   "id": "56f98d6b",
   "metadata": {},
   "source": [
    "### Load Required Librairies and dataset loading"
   ]
  },
  {
   "cell_type": "code",
   "execution_count": 1,
   "id": "6ea1ac5b",
   "metadata": {},
   "outputs": [],
   "source": [
    "#Load Required Librairies\n",
    "import numpy as np\n",
    "import pandas as pd\n",
    "import matplotlib.pyplot as plt\n",
    "import seaborn as sns\n",
    "from tensorflow.keras.layers import Dense,Conv2D,MaxPool2D,Flatten\n",
    "from tensorflow.keras.models import Sequential,load_model\n",
    "from tensorflow.keras.callbacks import EarlyStopping\n",
    "from tensorflow.keras.datasets import mnist\n",
    "from tensorflow.keras.utils import to_categorical\n",
    "from sklearn.metrics import classification_report,confusion_matrix"
   ]
  },
  {
   "cell_type": "code",
   "execution_count": 2,
   "id": "a5aa061d",
   "metadata": {},
   "outputs": [],
   "source": [
    "#Loading MNIST DATA\n",
    "(X_train, y_train), (X_test, y_test) = mnist.load_data()"
   ]
  },
  {
   "cell_type": "code",
   "execution_count": 3,
   "id": "846e90a3",
   "metadata": {},
   "outputs": [
    {
     "data": {
      "text/plain": [
       "array([[[0, 0, 0, ..., 0, 0, 0],\n",
       "        [0, 0, 0, ..., 0, 0, 0],\n",
       "        [0, 0, 0, ..., 0, 0, 0],\n",
       "        ...,\n",
       "        [0, 0, 0, ..., 0, 0, 0],\n",
       "        [0, 0, 0, ..., 0, 0, 0],\n",
       "        [0, 0, 0, ..., 0, 0, 0]],\n",
       "\n",
       "       [[0, 0, 0, ..., 0, 0, 0],\n",
       "        [0, 0, 0, ..., 0, 0, 0],\n",
       "        [0, 0, 0, ..., 0, 0, 0],\n",
       "        ...,\n",
       "        [0, 0, 0, ..., 0, 0, 0],\n",
       "        [0, 0, 0, ..., 0, 0, 0],\n",
       "        [0, 0, 0, ..., 0, 0, 0]],\n",
       "\n",
       "       [[0, 0, 0, ..., 0, 0, 0],\n",
       "        [0, 0, 0, ..., 0, 0, 0],\n",
       "        [0, 0, 0, ..., 0, 0, 0],\n",
       "        ...,\n",
       "        [0, 0, 0, ..., 0, 0, 0],\n",
       "        [0, 0, 0, ..., 0, 0, 0],\n",
       "        [0, 0, 0, ..., 0, 0, 0]],\n",
       "\n",
       "       ...,\n",
       "\n",
       "       [[0, 0, 0, ..., 0, 0, 0],\n",
       "        [0, 0, 0, ..., 0, 0, 0],\n",
       "        [0, 0, 0, ..., 0, 0, 0],\n",
       "        ...,\n",
       "        [0, 0, 0, ..., 0, 0, 0],\n",
       "        [0, 0, 0, ..., 0, 0, 0],\n",
       "        [0, 0, 0, ..., 0, 0, 0]],\n",
       "\n",
       "       [[0, 0, 0, ..., 0, 0, 0],\n",
       "        [0, 0, 0, ..., 0, 0, 0],\n",
       "        [0, 0, 0, ..., 0, 0, 0],\n",
       "        ...,\n",
       "        [0, 0, 0, ..., 0, 0, 0],\n",
       "        [0, 0, 0, ..., 0, 0, 0],\n",
       "        [0, 0, 0, ..., 0, 0, 0]],\n",
       "\n",
       "       [[0, 0, 0, ..., 0, 0, 0],\n",
       "        [0, 0, 0, ..., 0, 0, 0],\n",
       "        [0, 0, 0, ..., 0, 0, 0],\n",
       "        ...,\n",
       "        [0, 0, 0, ..., 0, 0, 0],\n",
       "        [0, 0, 0, ..., 0, 0, 0],\n",
       "        [0, 0, 0, ..., 0, 0, 0]]], dtype=uint8)"
      ]
     },
     "execution_count": 3,
     "metadata": {},
     "output_type": "execute_result"
    }
   ],
   "source": [
    "X_train"
   ]
  },
  {
   "cell_type": "code",
   "execution_count": 4,
   "id": "5941eb0f",
   "metadata": {},
   "outputs": [
    {
     "data": {
      "text/plain": [
       "array([5, 0, 4, ..., 5, 6, 8], dtype=uint8)"
      ]
     },
     "execution_count": 4,
     "metadata": {},
     "output_type": "execute_result"
    }
   ],
   "source": [
    "y_train"
   ]
  },
  {
   "cell_type": "code",
   "execution_count": 5,
   "id": "024679c0",
   "metadata": {},
   "outputs": [
    {
     "name": "stdout",
     "output_type": "stream",
     "text": [
      "Corresponding output:  5\n"
     ]
    },
    {
     "data": {
      "image/png": "[encoded data removed]",
      "text/plain": [
       "<Figure size 640x480 with 1 Axes>"
      ]
     },
     "metadata": {},
     "output_type": "display_data"
    }
   ],
   "source": [
    "plt.imshow(X_train[0])\n",
    "print(\"Corresponding output: \",y_train[0])"
   ]
  },
  {
   "cell_type": "code",
   "execution_count": 6,
   "id": "52cc076f",
   "metadata": {},
   "outputs": [
    {
     "data": {
      "text/plain": [
       "(60000, 28, 28)"
      ]
     },
     "execution_count": 6,
     "metadata": {},
     "output_type": "execute_result"
    }
   ],
   "source": [
    "X_train.shape"
   ]
  },
  {
   "cell_type": "code",
   "execution_count": 7,
   "id": "402ef18a",
   "metadata": {},
   "outputs": [
    {
     "data": {
      "text/plain": [
       "(60000, 28, 28)"
      ]
     },
     "execution_count": 7,
     "metadata": {},
     "output_type": "execute_result"
    }
   ],
   "source": [
    "X_train.shape"
   ]
  },
  {
   "cell_type": "markdown",
   "id": "e883d840",
   "metadata": {},
   "source": [
    "## Sprint 2"
   ]
  },
  {
   "cell_type": "markdown",
   "id": "51ce59b1",
   "metadata": {},
   "source": [
    "### Scaling and transforming y in one hot encoding form"
   ]
  },
  {
   "cell_type": "code",
   "execution_count": 8,
   "id": "48c0f966",
   "metadata": {},
   "outputs": [],
   "source": [
    "X_train=X_train/255\n",
    "X_test=X_test/255"
   ]
  },
  {
   "cell_type": "code",
   "execution_count": 9,
   "id": "ae3169a4",
   "metadata": {},
   "outputs": [],
   "source": [
    "# transforming y in one hot encoding form\n",
    "y_train=to_categorical(y_train)\n",
    "y_test=to_categorical(y_test)"
   ]
  },
  {
   "cell_type": "code",
   "execution_count": 10,
   "id": "cb79dd1a",
   "metadata": {},
   "outputs": [],
   "source": [
    "X_train=X_train.reshape(60000, 28, 28,1)\n",
    "X_test=X_test.reshape(10000, 28, 28,1)"
   ]
  },
  {
   "cell_type": "markdown",
   "id": "644e9fe6",
   "metadata": {},
   "source": [
    "## Sprint 3"
   ]
  },
  {
   "cell_type": "markdown",
   "id": "ac4a323e",
   "metadata": {},
   "source": [
    "### Model Building"
   ]
  },
  {
   "cell_type": "code",
   "execution_count": 11,
   "id": "386d3c11",
   "metadata": {},
   "outputs": [],
   "source": [
    "# MODEL BUILDING\n",
    "\n",
    "model=Sequential()\n",
    "\n",
    "model.add(Conv2D(filters=32,kernel_size=(4,4),strides=(1,1),input_shape=(28,28,1),activation='relu'))\n",
    "\n",
    "model.add(MaxPool2D(pool_size=(2,2)))\n",
    "\n",
    "model.add(Flatten())\n",
    "\n",
    "model.add(Dense(128, activation='relu'))\n",
    "\n",
    "model.add(Dense(10, activation='softmax'))"
   ]
  },
  {
   "cell_type": "code",
   "execution_count": 12,
   "id": "fdceb984",
   "metadata": {},
   "outputs": [],
   "source": [
    "model.compile(loss='categorical_crossentropy',optimizer='adam',metrics=['accuracy']) "
   ]
  },
  {
   "cell_type": "code",
   "execution_count": 13,
   "id": "f9eaf108",
   "metadata": {},
   "outputs": [
    {
     "name": "stdout",
     "output_type": "stream",
     "text": [
      "Model: \"sequential\"\n",
      "_________________________________________________________________\n",
      " Layer (type)                Output Shape              Param #   \n",
      "=================================================================\n",
      " conv2d (Conv2D)             (None, 25, 25, 32)        544       \n",
      "                                                                 \n",
      " max_pooling2d (MaxPooling2D  (None, 12, 12, 32)       0         \n",
      " )                                                               \n",
      "                                                                 \n",
      " flatten (Flatten)           (None, 4608)              0         \n",
      "                                                                 \n",
      " dense (Dense)               (None, 128)               589952    \n",
      "                                                                 \n",
      " dense_1 (Dense)             (None, 10)                1290      \n",
      "                                                                 \n",
      "=================================================================\n",
      "Total params: 591,786\n",
      "Trainable params: 591,786\n",
      "Non-trainable params: 0\n",
      "_________________________________________________________________\n"
     ]
    }
   ],
   "source": [
    "model.summary()"
   ]
  },
  {
   "cell_type": "code",
   "execution_count": 14,
   "id": "b38741c4",
   "metadata": {},
   "outputs": [],
   "source": [
    "early_stop = EarlyStopping(monitor='val_loss',patience=10)"
   ]
  },
  {
   "cell_type": "code",
   "execution_count": 15,
   "id": "71d79fe8",
   "metadata": {},
   "outputs": [
    {
     "name": "stdout",
     "output_type": "stream",
     "text": [
      "Epoch 1/250\n",
      "1875/1875 [==============================] - 13s 7ms/step - loss: 0.1371 - accuracy: 0.9588 - val_loss: 0.0630 - val_accuracy: 0.9788\n",
      "Epoch 2/250\n",
      "1875/1875 [==============================] - 12s 7ms/step - loss: 0.0472 - accuracy: 0.9852 - val_loss: 0.0432 - val_accuracy: 0.9842\n",
      "Epoch 3/250\n",
      "1875/1875 [==============================] - 12s 7ms/step - loss: 0.0300 - accuracy: 0.9902 - val_loss: 0.0414 - val_accuracy: 0.9867\n",
      "Epoch 4/250\n",
      "1875/1875 [==============================] - 12s 7ms/step - loss: 0.0203 - accuracy: 0.9933 - val_loss: 0.0399 - val_accuracy: 0.9878\n",
      "Epoch 5/250\n",
      "1875/1875 [==============================] - 12s 7ms/step - loss: 0.0140 - accuracy: 0.9953 - val_loss: 0.0441 - val_accuracy: 0.9879\n",
      "Epoch 6/250\n",
      "1875/1875 [==============================] - 12s 7ms/step - loss: 0.0096 - accuracy: 0.9967 - val_loss: 0.0481 - val_accuracy: 0.9866\n",
      "Epoch 7/250\n",
      "1875/1875 [==============================] - 12s 6ms/step - loss: 0.0074 - accuracy: 0.9977 - val_loss: 0.0507 - val_accuracy: 0.9858\n",
      "Epoch 8/250\n",
      "1875/1875 [==============================] - 12s 6ms/step - loss: 0.0071 - accuracy: 0.9976 - val_loss: 0.0521 - val_accuracy: 0.9867\n",
      "Epoch 9/250\n",
      "1875/1875 [==============================] - 12s 6ms/step - loss: 0.0054 - accuracy: 0.9982 - val_loss: 0.0480 - val_accuracy: 0.9883\n",
      "Epoch 10/250\n",
      "1875/1875 [==============================] - 12s 7ms/step - loss: 0.0045 - accuracy: 0.9986 - val_loss: 0.0553 - val_accuracy: 0.9882\n",
      "Epoch 11/250\n",
      "1875/1875 [==============================] - 12s 7ms/step - loss: 0.0041 - accuracy: 0.9987 - val_loss: 0.0510 - val_accuracy: 0.9881\n",
      "Epoch 12/250\n",
      "1875/1875 [==============================] - 12s 6ms/step - loss: 0.0036 - accuracy: 0.9987 - val_loss: 0.0548 - val_accuracy: 0.9880\n",
      "Epoch 13/250\n",
      "1875/1875 [==============================] - 12s 7ms/step - loss: 0.0032 - accuracy: 0.9988 - val_loss: 0.0866 - val_accuracy: 0.9831\n",
      "Epoch 14/250\n",
      "1875/1875 [==============================] - 12s 7ms/step - loss: 0.0038 - accuracy: 0.9988 - val_loss: 0.0543 - val_accuracy: 0.9885\n"
     ]
    },
    {
     "data": {
      "text/plain": [
       "<keras.callbacks.History at 0x298c6057310>"
      ]
     },
     "execution_count": 15,
     "metadata": {},
     "output_type": "execute_result"
    }
   ],
   "source": [
    "model.fit(X_train,y_train,epochs=250,validation_data=(X_test,y_test),callbacks=[early_stop])"
   ]
  },
  {
   "cell_type": "code",
   "execution_count": 16,
   "id": "9f0818ae",
   "metadata": {},
   "outputs": [],
   "source": [
    "loss_df=pd.DataFrame(model.history.history)"
   ]
  },
  {
   "cell_type": "code",
   "execution_count": 17,
   "id": "8b4550fd",
   "metadata": {},
   "outputs": [
    {
     "data": {
      "text/html": [
       "<div>\n",
       "<style scoped>\n",
       "    .dataframe tbody tr th:only-of-type {\n",
       "        vertical-align: middle;\n",
       "    }\n",
       "\n",
       "    .dataframe tbody tr th {\n",
       "        vertical-align: top;\n",
       "    }\n",
       "\n",
       "    .dataframe thead th {\n",
       "        text-align: right;\n",
       "    }\n",
       "</style>\n",
       "<table border=\"1\" class=\"dataframe\">\n",
       "  <thead>\n",
       "    <tr style=\"text-align: right;\">\n",
       "      <th></th>\n",
       "      <th>loss</th>\n",
       "      <th>accuracy</th>\n",
       "      <th>val_loss</th>\n",
       "      <th>val_accuracy</th>\n",
       "    </tr>\n",
       "  </thead>\n",
       "  <tbody>\n",
       "    <tr>\n",
       "      <th>0</th>\n",
       "      <td>0.137129</td>\n",
       "      <td>0.958750</td>\n",
       "      <td>0.063001</td>\n",
       "      <td>0.9788</td>\n",
       "    </tr>\n",
       "    <tr>\n",
       "      <th>1</th>\n",
       "      <td>0.047162</td>\n",
       "      <td>0.985233</td>\n",
       "      <td>0.043160</td>\n",
       "      <td>0.9842</td>\n",
       "    </tr>\n",
       "    <tr>\n",
       "      <th>2</th>\n",
       "      <td>0.030006</td>\n",
       "      <td>0.990200</td>\n",
       "      <td>0.041448</td>\n",
       "      <td>0.9867</td>\n",
       "    </tr>\n",
       "    <tr>\n",
       "      <th>3</th>\n",
       "      <td>0.020272</td>\n",
       "      <td>0.993267</td>\n",
       "      <td>0.039866</td>\n",
       "      <td>0.9878</td>\n",
       "    </tr>\n",
       "    <tr>\n",
       "      <th>4</th>\n",
       "      <td>0.013997</td>\n",
       "      <td>0.995300</td>\n",
       "      <td>0.044147</td>\n",
       "      <td>0.9879</td>\n",
       "    </tr>\n",
       "    <tr>\n",
       "      <th>5</th>\n",
       "      <td>0.009552</td>\n",
       "      <td>0.996733</td>\n",
       "      <td>0.048086</td>\n",
       "      <td>0.9866</td>\n",
       "    </tr>\n",
       "    <tr>\n",
       "      <th>6</th>\n",
       "      <td>0.007414</td>\n",
       "      <td>0.997700</td>\n",
       "      <td>0.050711</td>\n",
       "      <td>0.9858</td>\n",
       "    </tr>\n",
       "    <tr>\n",
       "      <th>7</th>\n",
       "      <td>0.007137</td>\n",
       "      <td>0.997633</td>\n",
       "      <td>0.052122</td>\n",
       "      <td>0.9867</td>\n",
       "    </tr>\n",
       "    <tr>\n",
       "      <th>8</th>\n",
       "      <td>0.005364</td>\n",
       "      <td>0.998200</td>\n",
       "      <td>0.047995</td>\n",
       "      <td>0.9883</td>\n",
       "    </tr>\n",
       "    <tr>\n",
       "      <th>9</th>\n",
       "      <td>0.004475</td>\n",
       "      <td>0.998617</td>\n",
       "      <td>0.055289</td>\n",
       "      <td>0.9882</td>\n",
       "    </tr>\n",
       "    <tr>\n",
       "      <th>10</th>\n",
       "      <td>0.004082</td>\n",
       "      <td>0.998733</td>\n",
       "      <td>0.050953</td>\n",
       "      <td>0.9881</td>\n",
       "    </tr>\n",
       "    <tr>\n",
       "      <th>11</th>\n",
       "      <td>0.003573</td>\n",
       "      <td>0.998750</td>\n",
       "      <td>0.054815</td>\n",
       "      <td>0.9880</td>\n",
       "    </tr>\n",
       "    <tr>\n",
       "      <th>12</th>\n",
       "      <td>0.003188</td>\n",
       "      <td>0.998800</td>\n",
       "      <td>0.086602</td>\n",
       "      <td>0.9831</td>\n",
       "    </tr>\n",
       "    <tr>\n",
       "      <th>13</th>\n",
       "      <td>0.003828</td>\n",
       "      <td>0.998800</td>\n",
       "      <td>0.054321</td>\n",
       "      <td>0.9885</td>\n",
       "    </tr>\n",
       "  </tbody>\n",
       "</table>\n",
       "</div>"
      ],
      "text/plain": [
       "        loss  accuracy  val_loss  val_accuracy\n",
       "0   0.137129  0.958750  0.063001        0.9788\n",
       "1   0.047162  0.985233  0.043160        0.9842\n",
       "2   0.030006  0.990200  0.041448        0.9867\n",
       "3   0.020272  0.993267  0.039866        0.9878\n",
       "4   0.013997  0.995300  0.044147        0.9879\n",
       "5   0.009552  0.996733  0.048086        0.9866\n",
       "6   0.007414  0.997700  0.050711        0.9858\n",
       "7   0.007137  0.997633  0.052122        0.9867\n",
       "8   0.005364  0.998200  0.047995        0.9883\n",
       "9   0.004475  0.998617  0.055289        0.9882\n",
       "10  0.004082  0.998733  0.050953        0.9881\n",
       "11  0.003573  0.998750  0.054815        0.9880\n",
       "12  0.003188  0.998800  0.086602        0.9831\n",
       "13  0.003828  0.998800  0.054321        0.9885"
      ]
     },
     "execution_count": 17,
     "metadata": {},
     "output_type": "execute_result"
    }
   ],
   "source": [
    "loss_df"
   ]
  },
  {
   "cell_type": "code",
   "execution_count": 18,
   "id": "14071597",
   "metadata": {},
   "outputs": [
    {
     "data": {
      "image/png": "[encoded data removed]",
      "text/plain": [
       "<Figure size 640x480 with 1 Axes>"
      ]
     },
     "metadata": {},
     "output_type": "display_data"
    }
   ],
   "source": [
    "plt.plot(loss_df,label=loss_df.columns);\n",
    "plt.legend();"
   ]
  },
  {
   "cell_type": "markdown",
   "id": "3bdcf646",
   "metadata": {},
   "source": [
    "## Sprint 4"
   ]
  },
  {
   "cell_type": "markdown",
   "id": "f4ad04d8",
   "metadata": {},
   "source": [
    "### Saving and Model Evaluation"
   ]
  },
  {
   "cell_type": "code",
   "execution_count": 19,
   "id": "9183579d",
   "metadata": {},
   "outputs": [
    {
     "name": "stdout",
     "output_type": "stream",
     "text": [
      "313/313 [==============================] - 1s 2ms/step\n"
     ]
    }
   ],
   "source": [
    "preds=model.predict(X_test)"
   ]
  },
  {
   "cell_type": "code",
   "execution_count": 20,
   "id": "e583c6ec",
   "metadata": {},
   "outputs": [],
   "source": [
    "for i in range(len(preds)):\n",
    "    preds[i][np.argmax(preds[i])]=1\n",
    "    preds[i]=np.round(preds[i])"
   ]
  },
  {
   "cell_type": "code",
   "execution_count": 21,
   "id": "a4c19957",
   "metadata": {},
   "outputs": [
    {
     "data": {
      "text/plain": [
       "array([[ 976,    0,    1,    0,    0,    0,    2,    1,    0,    0],\n",
       "       [   0, 1131,    1,    0,    0,    1,    1,    1,    0,    0],\n",
       "       [   0,    1, 1025,    1,    0,    0,    1,    3,    1,    0],\n",
       "       [   0,    0,    3, 1002,    0,    3,    0,    0,    2,    0],\n",
       "       [   1,    0,    0,    0,  969,    0,    5,    0,    0,    7],\n",
       "       [   0,    0,    0,    6,    0,  884,    2,    0,    0,    0],\n",
       "       [   4,    2,    0,    0,    1,    4,  946,    0,    1,    0],\n",
       "       [   0,    2,    7,    0,    0,    0,    0, 1016,    1,    2],\n",
       "       [   5,    2,    1,    2,    0,    4,    1,    3,  953,    3],\n",
       "       [   0,    2,    0,    4,    8,    5,    0,    3,    4,  983]],\n",
       "      dtype=int64)"
      ]
     },
     "execution_count": 21,
     "metadata": {},
     "output_type": "execute_result"
    }
   ],
   "source": [
    "# Test the model\n",
    "confusion_matrix(y_test.argmax(axis=1), preds.argmax(axis=1))"
   ]
  },
  {
   "cell_type": "code",
   "execution_count": 22,
   "id": "84344b8d",
   "metadata": {},
   "outputs": [
    {
     "name": "stdout",
     "output_type": "stream",
     "text": [
      "              precision    recall  f1-score   support\n",
      "\n",
      "           0       0.99      1.00      0.99       980\n",
      "           1       0.99      1.00      0.99      1135\n",
      "           2       0.99      0.99      0.99      1032\n",
      "           3       0.99      0.99      0.99      1010\n",
      "           4       0.99      0.99      0.99       982\n",
      "           5       0.98      0.99      0.99       892\n",
      "           6       0.99      0.99      0.99       958\n",
      "           7       0.99      0.99      0.99      1028\n",
      "           8       0.99      0.98      0.98       974\n",
      "           9       0.99      0.97      0.98      1009\n",
      "\n",
      "   micro avg       0.99      0.99      0.99     10000\n",
      "   macro avg       0.99      0.99      0.99     10000\n",
      "weighted avg       0.99      0.99      0.99     10000\n",
      " samples avg       0.99      0.99      0.99     10000\n",
      "\n"
     ]
    }
   ],
   "source": [
    "print(classification_report(y_test,preds))"
   ]
  },
  {
   "cell_type": "code",
   "execution_count": 23,
   "id": "191a08b5",
   "metadata": {},
   "outputs": [],
   "source": [
    "new_data=X_test[6]\n",
    "new_data=new_data.reshape(1,28,28,1)"
   ]
  },
  {
   "cell_type": "code",
   "execution_count": 24,
   "id": "8a33d64e",
   "metadata": {},
   "outputs": [
    {
     "name": "stdout",
     "output_type": "stream",
     "text": [
      "1/1 [==============================] - 0s 16ms/step\n",
      "Predicted Number : 4\n"
     ]
    }
   ],
   "source": [
    "new_pred=model.predict(new_data)\n",
    "print(\"Predicted Number :\",np.argmax(new_pred))"
   ]
  },
  {
   "cell_type": "code",
   "execution_count": 25,
   "id": "7dbe8cdc",
   "metadata": {},
   "outputs": [
    {
     "data": {
      "text/plain": [
       "<matplotlib.image.AxesImage at 0x298e158f100>"
      ]
     },
     "execution_count": 25,
     "metadata": {},
     "output_type": "execute_result"
    },
    {
     "data": {
      "image/png": "[encoded data removed]",
      "text/plain": [
       "<Figure size 640x480 with 1 Axes>"
      ]
     },
     "metadata": {},
     "output_type": "display_data"
    }
   ],
   "source": [
    "plt.imshow(X_test[6])"
   ]
  },
  {
   "cell_type": "code",
   "execution_count": 26,
   "id": "8312c2f7",
   "metadata": {},
   "outputs": [],
   "source": [
    "# Save the model\n",
    "\n",
    "model.save('mnist.h5')"
   ]
  },
  {
   "cell_type": "code",
   "execution_count": 27,
   "id": "2de82e87",
   "metadata": {},
   "outputs": [],
   "source": [
    "# Test with Loaded model\n",
    "loaded_model=load_model('mnist.h5')"
   ]
  },
  {
   "cell_type": "code",
   "execution_count": 28,
   "id": "b7840edc",
   "metadata": {},
   "outputs": [
    {
     "name": "stdout",
     "output_type": "stream",
     "text": [
      "1/1 [==============================] - 0s 16ms/step\n",
      "Predicted Number : 0\n"
     ]
    }
   ],
   "source": [
    "new_data=X_test[10]\n",
    "new_data=new_data.reshape(1,28,28,1)\n",
    "new_pred=model.predict(new_data)\n",
    "print(\"Predicted Number :\",np.argmax(new_pred))"
   ]
  },
  {
   "cell_type": "code",
   "execution_count": 29,
   "id": "b049d8c3",
   "metadata": {},
   "outputs": [
    {
     "data": {
      "text/plain": [
       "<matplotlib.image.AxesImage at 0x298ed93c820>"
      ]
     },
     "execution_count": 29,
     "metadata": {},
     "output_type": "execute_result"
    },
    {
     "data": {
      "image/png": "[encoded data removed]",
      "text/plain": [
       "<Figure size 640x480 with 1 Axes>"
      ]
     },
     "metadata": {},
     "output_type": "display_data"
    }
   ],
   "source": [
    "plt.imshow(X_test[10])"
   ]
  },
  {
   "cell_type": "code",
   "execution_count": null,
   "id": "2e542fb0",
   "metadata": {},
   "outputs": [],
   "source": []
  }
 ],
 "metadata": {
  "kernelspec": {
   "display_name": "Python 3 (ipykernel)",
   "language": "python",
   "name": "python3"
  },
  "language_info": {
   "codemirror_mode": {
    "name": "ipython",
    "version": 3
   },
   "file_extension": ".py",
   "mimetype": "text/x-python",
   "name": "python",
   "nbconvert_exporter": "python",
   "pygments_lexer": "ipython3",
   "version": "3.9.13"
  }
 },
 "nbformat": 4,
 "nbformat_minor": 5
}
