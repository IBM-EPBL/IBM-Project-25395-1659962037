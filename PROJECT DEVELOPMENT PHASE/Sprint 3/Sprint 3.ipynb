{
 "cells": [
  {
   "cell_type": "markdown",
   "id": "e0a1dfd0",
   "metadata": {},
   "source": [
    "## A Novel Method for Handwritten Digit Recognition System\n",
    "\n",
    "## Project Development Phase\n",
    "\n",
    "## Project ID: PNT2022TMID15811"
   ]
  },
  {
   "cell_type": "markdown",
   "id": "c48cc157",
   "metadata": {},
   "source": [
    "## Sprint 1"
   ]
  },
  {
   "cell_type": "markdown",
   "id": "c1e51623",
   "metadata": {},
   "source": [
    "### Load Required Librairies and dataset loading"
   ]
  },
  {
   "cell_type": "code",
   "execution_count": 1,
   "id": "7aaaecba",
   "metadata": {},
   "outputs": [],
   "source": [
    "#Load Required Librairies\n",
    "import numpy as np\n",
    "import pandas as pd\n",
    "import matplotlib.pyplot as plt\n",
    "import seaborn as sns\n",
    "from tensorflow.keras.layers import Dense,Conv2D,MaxPool2D,Flatten\n",
    "from tensorflow.keras.models import Sequential,load_model\n",
    "from tensorflow.keras.callbacks import EarlyStopping\n",
    "from tensorflow.keras.datasets import mnist\n",
    "from tensorflow.keras.utils import to_categorical\n",
    "from sklearn.metrics import classification_report,confusion_matrix"
   ]
  },
  {
   "cell_type": "code",
   "execution_count": 2,
   "id": "54625e63",
   "metadata": {},
   "outputs": [],
   "source": [
    "#Loading MNIST DATA\n",
    "(X_train, y_train), (X_test, y_test) = mnist.load_data()"
   ]
  },
  {
   "cell_type": "code",
   "execution_count": 3,
   "id": "e08d5dd7",
   "metadata": {},
   "outputs": [
    {
     "data": {
      "text/plain": [
       "array([[[0, 0, 0, ..., 0, 0, 0],\n",
       "        [0, 0, 0, ..., 0, 0, 0],\n",
       "        [0, 0, 0, ..., 0, 0, 0],\n",
       "        ...,\n",
       "        [0, 0, 0, ..., 0, 0, 0],\n",
       "        [0, 0, 0, ..., 0, 0, 0],\n",
       "        [0, 0, 0, ..., 0, 0, 0]],\n",
       "\n",
       "       [[0, 0, 0, ..., 0, 0, 0],\n",
       "        [0, 0, 0, ..., 0, 0, 0],\n",
       "        [0, 0, 0, ..., 0, 0, 0],\n",
       "        ...,\n",
       "        [0, 0, 0, ..., 0, 0, 0],\n",
       "        [0, 0, 0, ..., 0, 0, 0],\n",
       "        [0, 0, 0, ..., 0, 0, 0]],\n",
       "\n",
       "       [[0, 0, 0, ..., 0, 0, 0],\n",
       "        [0, 0, 0, ..., 0, 0, 0],\n",
       "        [0, 0, 0, ..., 0, 0, 0],\n",
       "        ...,\n",
       "        [0, 0, 0, ..., 0, 0, 0],\n",
       "        [0, 0, 0, ..., 0, 0, 0],\n",
       "        [0, 0, 0, ..., 0, 0, 0]],\n",
       "\n",
       "       ...,\n",
       "\n",
       "       [[0, 0, 0, ..., 0, 0, 0],\n",
       "        [0, 0, 0, ..., 0, 0, 0],\n",
       "        [0, 0, 0, ..., 0, 0, 0],\n",
       "        ...,\n",
       "        [0, 0, 0, ..., 0, 0, 0],\n",
       "        [0, 0, 0, ..., 0, 0, 0],\n",
       "        [0, 0, 0, ..., 0, 0, 0]],\n",
       "\n",
       "       [[0, 0, 0, ..., 0, 0, 0],\n",
       "        [0, 0, 0, ..., 0, 0, 0],\n",
       "        [0, 0, 0, ..., 0, 0, 0],\n",
       "        ...,\n",
       "        [0, 0, 0, ..., 0, 0, 0],\n",
       "        [0, 0, 0, ..., 0, 0, 0],\n",
       "        [0, 0, 0, ..., 0, 0, 0]],\n",
       "\n",
       "       [[0, 0, 0, ..., 0, 0, 0],\n",
       "        [0, 0, 0, ..., 0, 0, 0],\n",
       "        [0, 0, 0, ..., 0, 0, 0],\n",
       "        ...,\n",
       "        [0, 0, 0, ..., 0, 0, 0],\n",
       "        [0, 0, 0, ..., 0, 0, 0],\n",
       "        [0, 0, 0, ..., 0, 0, 0]]], dtype=uint8)"
      ]
     },
     "execution_count": 3,
     "metadata": {},
     "output_type": "execute_result"
    }
   ],
   "source": [
    "X_train"
   ]
  },
  {
   "cell_type": "code",
   "execution_count": 4,
   "id": "51008e2b",
   "metadata": {},
   "outputs": [
    {
     "data": {
      "text/plain": [
       "array([5, 0, 4, ..., 5, 6, 8], dtype=uint8)"
      ]
     },
     "execution_count": 4,
     "metadata": {},
     "output_type": "execute_result"
    }
   ],
   "source": [
    "y_train"
   ]
  },
  {
   "cell_type": "code",
   "execution_count": 5,
   "id": "e74d8097",
   "metadata": {},
   "outputs": [
    {
     "name": "stdout",
     "output_type": "stream",
     "text": [
      "Corresponding output:  5\n"
     ]
    },
    {
     "data": {
      "image/png": "[encoded data removed]",
      "text/plain": [
       "<Figure size 640x480 with 1 Axes>"
      ]
     },
     "metadata": {},
     "output_type": "display_data"
    }
   ],
   "source": [
    "plt.imshow(X_train[0])\n",
    "print(\"Corresponding output: \",y_train[0])"
   ]
  },
  {
   "cell_type": "code",
   "execution_count": 6,
   "id": "8ce7b160",
   "metadata": {},
   "outputs": [
    {
     "data": {
      "text/plain": [
       "(60000, 28, 28)"
      ]
     },
     "execution_count": 6,
     "metadata": {},
     "output_type": "execute_result"
    }
   ],
   "source": [
    "X_train.shape"
   ]
  },
  {
   "cell_type": "code",
   "execution_count": 7,
   "id": "9a4d783d",
   "metadata": {},
   "outputs": [
    {
     "data": {
      "text/plain": [
       "(60000, 28, 28)"
      ]
     },
     "execution_count": 7,
     "metadata": {},
     "output_type": "execute_result"
    }
   ],
   "source": [
    "X_train.shape"
   ]
  },
  {
   "cell_type": "markdown",
   "id": "e3520020",
   "metadata": {},
   "source": [
    "## Sprint 2"
   ]
  },
  {
   "cell_type": "markdown",
   "id": "fd17b035",
   "metadata": {},
   "source": [
    "### Scaling and transforming y in one hot encoding form"
   ]
  },
  {
   "cell_type": "code",
   "execution_count": 8,
   "id": "48c0f966",
   "metadata": {},
   "outputs": [],
   "source": [
    "X_train=X_train/255\n",
    "X_test=X_test/255"
   ]
  },
  {
   "cell_type": "code",
   "execution_count": 9,
   "id": "c98184b8",
   "metadata": {},
   "outputs": [],
   "source": [
    "# transforming y in one hot encoding form\n",
    "y_train=to_categorical(y_train)\n",
    "y_test=to_categorical(y_test)"
   ]
  },
  {
   "cell_type": "code",
   "execution_count": 10,
   "id": "cb79dd1a",
   "metadata": {},
   "outputs": [],
   "source": [
    "X_train=X_train.reshape(60000, 28, 28,1)\n",
    "X_test=X_test.reshape(10000, 28, 28,1)"
   ]
  },
  {
   "cell_type": "markdown",
   "id": "b4e7b03a",
   "metadata": {},
   "source": [
    "## Sprint 3"
   ]
  },
  {
   "cell_type": "markdown",
   "id": "d352eecf",
   "metadata": {},
   "source": [
    "### Model Building"
   ]
  },
  {
   "cell_type": "code",
   "execution_count": 11,
   "id": "386d3c11",
   "metadata": {},
   "outputs": [],
   "source": [
    "# MODEL BUILDING\n",
    "\n",
    "model=Sequential()\n",
    "\n",
    "model.add(Conv2D(filters=32,kernel_size=(4,4),strides=(1,1),input_shape=(28,28,1),activation='relu'))\n",
    "\n",
    "model.add(MaxPool2D(pool_size=(2,2)))\n",
    "\n",
    "model.add(Flatten())\n",
    "\n",
    "model.add(Dense(128, activation='relu'))\n",
    "\n",
    "model.add(Dense(10, activation='softmax'))"
   ]
  },
  {
   "cell_type": "code",
   "execution_count": 12,
   "id": "b92393ca",
   "metadata": {},
   "outputs": [],
   "source": [
    "model.compile(loss='categorical_crossentropy',optimizer='adam',metrics=['accuracy']) "
   ]
  },
  {
   "cell_type": "code",
   "execution_count": 13,
   "id": "f9eaf108",
   "metadata": {},
   "outputs": [
    {
     "name": "stdout",
     "output_type": "stream",
     "text": [
      "Model: \"sequential\"\n",
      "_________________________________________________________________\n",
      " Layer (type)                Output Shape              Param #   \n",
      "=================================================================\n",
      " conv2d (Conv2D)             (None, 25, 25, 32)        544       \n",
      "                                                                 \n",
      " max_pooling2d (MaxPooling2D  (None, 12, 12, 32)       0         \n",
      " )                                                               \n",
      "                                                                 \n",
      " flatten (Flatten)           (None, 4608)              0         \n",
      "                                                                 \n",
      " dense (Dense)               (None, 128)               589952    \n",
      "                                                                 \n",
      " dense_1 (Dense)             (None, 10)                1290      \n",
      "                                                                 \n",
      "=================================================================\n",
      "Total params: 591,786\n",
      "Trainable params: 591,786\n",
      "Non-trainable params: 0\n",
      "_________________________________________________________________\n"
     ]
    }
   ],
   "source": [
    "model.summary()"
   ]
  },
  {
   "cell_type": "code",
   "execution_count": 14,
   "id": "b38741c4",
   "metadata": {},
   "outputs": [],
   "source": [
    "early_stop = EarlyStopping(monitor='val_loss',patience=10)"
   ]
  },
  {
   "cell_type": "code",
   "execution_count": 15,
   "id": "71d79fe8",
   "metadata": {},
   "outputs": [
    {
     "name": "stdout",
     "output_type": "stream",
     "text": [
      "Epoch 1/250\n",
      "1875/1875 [==============================] - 13s 7ms/step - loss: 0.1386 - accuracy: 0.9589 - val_loss: 0.0544 - val_accuracy: 0.9822\n",
      "Epoch 2/250\n",
      "1875/1875 [==============================] - 12s 7ms/step - loss: 0.0478 - accuracy: 0.9853 - val_loss: 0.0490 - val_accuracy: 0.9848\n",
      "Epoch 3/250\n",
      "1875/1875 [==============================] - 12s 7ms/step - loss: 0.0304 - accuracy: 0.9902 - val_loss: 0.0410 - val_accuracy: 0.9859\n",
      "Epoch 4/250\n",
      "1875/1875 [==============================] - 12s 7ms/step - loss: 0.0201 - accuracy: 0.9933 - val_loss: 0.0460 - val_accuracy: 0.9861\n",
      "Epoch 5/250\n",
      "1875/1875 [==============================] - 12s 7ms/step - loss: 0.0138 - accuracy: 0.9956 - val_loss: 0.0514 - val_accuracy: 0.9849\n",
      "Epoch 6/250\n",
      "1875/1875 [==============================] - 12s 7ms/step - loss: 0.0100 - accuracy: 0.9967 - val_loss: 0.0361 - val_accuracy: 0.9891\n",
      "Epoch 7/250\n",
      "1875/1875 [==============================] - 12s 7ms/step - loss: 0.0086 - accuracy: 0.9973 - val_loss: 0.0543 - val_accuracy: 0.9853\n",
      "Epoch 8/250\n",
      "1875/1875 [==============================] - 12s 7ms/step - loss: 0.0065 - accuracy: 0.9979 - val_loss: 0.0461 - val_accuracy: 0.9900\n",
      "Epoch 9/250\n",
      "1875/1875 [==============================] - 13s 7ms/step - loss: 0.0051 - accuracy: 0.9983 - val_loss: 0.0582 - val_accuracy: 0.9852\n",
      "Epoch 10/250\n",
      "1875/1875 [==============================] - 13s 7ms/step - loss: 0.0054 - accuracy: 0.9981 - val_loss: 0.0480 - val_accuracy: 0.9885\n",
      "Epoch 11/250\n",
      "1875/1875 [==============================] - 12s 7ms/step - loss: 0.0045 - accuracy: 0.9984 - val_loss: 0.0529 - val_accuracy: 0.9883\n",
      "Epoch 12/250\n",
      "1875/1875 [==============================] - 12s 7ms/step - loss: 0.0037 - accuracy: 0.9987 - val_loss: 0.0597 - val_accuracy: 0.9874\n",
      "Epoch 13/250\n",
      "1875/1875 [==============================] - 13s 7ms/step - loss: 0.0026 - accuracy: 0.9991 - val_loss: 0.0580 - val_accuracy: 0.9875\n",
      "Epoch 14/250\n",
      "1875/1875 [==============================] - 13s 7ms/step - loss: 0.0034 - accuracy: 0.9988 - val_loss: 0.0658 - val_accuracy: 0.9870\n",
      "Epoch 15/250\n",
      "1875/1875 [==============================] - 12s 7ms/step - loss: 0.0028 - accuracy: 0.9991 - val_loss: 0.0622 - val_accuracy: 0.9893\n",
      "Epoch 16/250\n",
      "1875/1875 [==============================] - 12s 7ms/step - loss: 0.0030 - accuracy: 0.9991 - val_loss: 0.0687 - val_accuracy: 0.9880\n"
     ]
    },
    {
     "data": {
      "text/plain": [
       "<keras.callbacks.History at 0x13d15a94880>"
      ]
     },
     "execution_count": 15,
     "metadata": {},
     "output_type": "execute_result"
    }
   ],
   "source": [
    "model.fit(X_train,y_train,epochs=250,validation_data=(X_test,y_test),callbacks=[early_stop])"
   ]
  },
  {
   "cell_type": "code",
   "execution_count": 16,
   "id": "9f0818ae",
   "metadata": {},
   "outputs": [],
   "source": [
    "loss_df=pd.DataFrame(model.history.history)"
   ]
  },
  {
   "cell_type": "code",
   "execution_count": 17,
   "id": "8b4550fd",
   "metadata": {},
   "outputs": [
    {
     "data": {
      "text/html": [
       "<div>\n",
       "<style scoped>\n",
       "    .dataframe tbody tr th:only-of-type {\n",
       "        vertical-align: middle;\n",
       "    }\n",
       "\n",
       "    .dataframe tbody tr th {\n",
       "        vertical-align: top;\n",
       "    }\n",
       "\n",
       "    .dataframe thead th {\n",
       "        text-align: right;\n",
       "    }\n",
       "</style>\n",
       "<table border=\"1\" class=\"dataframe\">\n",
       "  <thead>\n",
       "    <tr style=\"text-align: right;\">\n",
       "      <th></th>\n",
       "      <th>loss</th>\n",
       "      <th>accuracy</th>\n",
       "      <th>val_loss</th>\n",
       "      <th>val_accuracy</th>\n",
       "    </tr>\n",
       "  </thead>\n",
       "  <tbody>\n",
       "    <tr>\n",
       "      <th>0</th>\n",
       "      <td>0.138569</td>\n",
       "      <td>0.958900</td>\n",
       "      <td>0.054441</td>\n",
       "      <td>0.9822</td>\n",
       "    </tr>\n",
       "    <tr>\n",
       "      <th>1</th>\n",
       "      <td>0.047774</td>\n",
       "      <td>0.985267</td>\n",
       "      <td>0.048956</td>\n",
       "      <td>0.9848</td>\n",
       "    </tr>\n",
       "    <tr>\n",
       "      <th>2</th>\n",
       "      <td>0.030413</td>\n",
       "      <td>0.990217</td>\n",
       "      <td>0.040957</td>\n",
       "      <td>0.9859</td>\n",
       "    </tr>\n",
       "    <tr>\n",
       "      <th>3</th>\n",
       "      <td>0.020105</td>\n",
       "      <td>0.993333</td>\n",
       "      <td>0.045989</td>\n",
       "      <td>0.9861</td>\n",
       "    </tr>\n",
       "    <tr>\n",
       "      <th>4</th>\n",
       "      <td>0.013756</td>\n",
       "      <td>0.995650</td>\n",
       "      <td>0.051445</td>\n",
       "      <td>0.9849</td>\n",
       "    </tr>\n",
       "    <tr>\n",
       "      <th>5</th>\n",
       "      <td>0.010046</td>\n",
       "      <td>0.996683</td>\n",
       "      <td>0.036128</td>\n",
       "      <td>0.9891</td>\n",
       "    </tr>\n",
       "    <tr>\n",
       "      <th>6</th>\n",
       "      <td>0.008611</td>\n",
       "      <td>0.997267</td>\n",
       "      <td>0.054277</td>\n",
       "      <td>0.9853</td>\n",
       "    </tr>\n",
       "    <tr>\n",
       "      <th>7</th>\n",
       "      <td>0.006493</td>\n",
       "      <td>0.997850</td>\n",
       "      <td>0.046139</td>\n",
       "      <td>0.9900</td>\n",
       "    </tr>\n",
       "    <tr>\n",
       "      <th>8</th>\n",
       "      <td>0.005139</td>\n",
       "      <td>0.998317</td>\n",
       "      <td>0.058176</td>\n",
       "      <td>0.9852</td>\n",
       "    </tr>\n",
       "    <tr>\n",
       "      <th>9</th>\n",
       "      <td>0.005362</td>\n",
       "      <td>0.998133</td>\n",
       "      <td>0.047975</td>\n",
       "      <td>0.9885</td>\n",
       "    </tr>\n",
       "    <tr>\n",
       "      <th>10</th>\n",
       "      <td>0.004480</td>\n",
       "      <td>0.998433</td>\n",
       "      <td>0.052872</td>\n",
       "      <td>0.9883</td>\n",
       "    </tr>\n",
       "    <tr>\n",
       "      <th>11</th>\n",
       "      <td>0.003738</td>\n",
       "      <td>0.998667</td>\n",
       "      <td>0.059706</td>\n",
       "      <td>0.9874</td>\n",
       "    </tr>\n",
       "    <tr>\n",
       "      <th>12</th>\n",
       "      <td>0.002556</td>\n",
       "      <td>0.999050</td>\n",
       "      <td>0.057972</td>\n",
       "      <td>0.9875</td>\n",
       "    </tr>\n",
       "    <tr>\n",
       "      <th>13</th>\n",
       "      <td>0.003407</td>\n",
       "      <td>0.998850</td>\n",
       "      <td>0.065807</td>\n",
       "      <td>0.9870</td>\n",
       "    </tr>\n",
       "    <tr>\n",
       "      <th>14</th>\n",
       "      <td>0.002774</td>\n",
       "      <td>0.999150</td>\n",
       "      <td>0.062242</td>\n",
       "      <td>0.9893</td>\n",
       "    </tr>\n",
       "    <tr>\n",
       "      <th>15</th>\n",
       "      <td>0.002955</td>\n",
       "      <td>0.999050</td>\n",
       "      <td>0.068690</td>\n",
       "      <td>0.9880</td>\n",
       "    </tr>\n",
       "  </tbody>\n",
       "</table>\n",
       "</div>"
      ],
      "text/plain": [
       "        loss  accuracy  val_loss  val_accuracy\n",
       "0   0.138569  0.958900  0.054441        0.9822\n",
       "1   0.047774  0.985267  0.048956        0.9848\n",
       "2   0.030413  0.990217  0.040957        0.9859\n",
       "3   0.020105  0.993333  0.045989        0.9861\n",
       "4   0.013756  0.995650  0.051445        0.9849\n",
       "5   0.010046  0.996683  0.036128        0.9891\n",
       "6   0.008611  0.997267  0.054277        0.9853\n",
       "7   0.006493  0.997850  0.046139        0.9900\n",
       "8   0.005139  0.998317  0.058176        0.9852\n",
       "9   0.005362  0.998133  0.047975        0.9885\n",
       "10  0.004480  0.998433  0.052872        0.9883\n",
       "11  0.003738  0.998667  0.059706        0.9874\n",
       "12  0.002556  0.999050  0.057972        0.9875\n",
       "13  0.003407  0.998850  0.065807        0.9870\n",
       "14  0.002774  0.999150  0.062242        0.9893\n",
       "15  0.002955  0.999050  0.068690        0.9880"
      ]
     },
     "execution_count": 17,
     "metadata": {},
     "output_type": "execute_result"
    }
   ],
   "source": [
    "loss_df"
   ]
  },
  {
   "cell_type": "code",
   "execution_count": 22,
   "id": "14071597",
   "metadata": {
    "scrolled": true
   },
   "outputs": [
    {
     "data": {
      "image/png": "[encoded data removed]",
      "text/plain": [
       "<Figure size 640x480 with 1 Axes>"
      ]
     },
     "metadata": {},
     "output_type": "display_data"
    }
   ],
   "source": [
    "plt.plot(loss_df,label=loss_df.columns);\n",
    "plt.legend();"
   ]
  },
  {
   "cell_type": "code",
   "execution_count": null,
   "id": "dfe62bca",
   "metadata": {},
   "outputs": [],
   "source": []
  }
 ],
 "metadata": {
  "kernelspec": {
   "display_name": "Python 3 (ipykernel)",
   "language": "python",
   "name": "python3"
  },
  "language_info": {
   "codemirror_mode": {
    "name": "ipython",
    "version": 3
   },
   "file_extension": ".py",
   "mimetype": "text/x-python",
   "name": "python",
   "nbconvert_exporter": "python",
   "pygments_lexer": "ipython3",
   "version": "3.9.13"
  }
 },
 "nbformat": 4,
 "nbformat_minor": 5
}
